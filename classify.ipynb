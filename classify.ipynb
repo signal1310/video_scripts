{
 "cells": [
  {
   "cell_type": "markdown",
   "metadata": {},
   "source": [
    "### 키프레임 간격 기준 영상 분류"
   ]
  },
  {
   "cell_type": "code",
   "execution_count": null,
   "metadata": {},
   "outputs": [],
   "source": [
    "from src.video_classify import VideoClassifier, Pred, WindowsNameOrder\n",
    "classifier = VideoClassifier()\n",
    "classifier.include_keyframe_interval()\n",
    "classifier.print(by=Pred.KEYFRAME, sort_key=lambda x: (x['키프레임 간격'], WindowsNameOrder(x['filename'])))\n",
    "classifier.classify(by=Pred.KEYFRAME)"
   ]
  },
  {
   "cell_type": "markdown",
   "metadata": {},
   "source": [
    "### 비트레이트 기준 영상 분류"
   ]
  },
  {
   "cell_type": "code",
   "execution_count": null,
   "metadata": {},
   "outputs": [],
   "source": [
    "from src.video_classify import VideoClassifier, Pred, WindowsNameOrder\n",
    "classifier = VideoClassifier()\n",
    "classifier.print(by=Pred.BITRATE, sort_key=lambda x: (WindowsNameOrder(x['filename']), x['비트레이트 비율']))\n",
    "classifier.classify(by=Pred.BITRATE)"
   ]
  },
  {
   "cell_type": "markdown",
   "metadata": {},
   "source": [
    "### 비율 기준 영상 분류"
   ]
  },
  {
   "cell_type": "code",
   "execution_count": null,
   "metadata": {},
   "outputs": [],
   "source": [
    "from src.video_classify import VideoClassifier, Pred, WindowsNameOrder\n",
    "classifier = VideoClassifier()\n",
    "classifier.print(by=Pred.RATIO, sort_key=lambda x: (x['비율타입'], WindowsNameOrder(x['filename']), x['비율차이']))\n",
    "classifier.classify(by=Pred.RATIO)"
   ]
  },
  {
   "cell_type": "markdown",
   "metadata": {},
   "source": [
    "### 영상 모든 정보출력"
   ]
  },
  {
   "cell_type": "code",
   "execution_count": null,
   "metadata": {},
   "outputs": [],
   "source": [
    "from src.video_classify import VideoClassifier, Pred, WindowsNameOrder\n",
    "classifier = VideoClassifier()\n",
    "classifier.print(by=Pred.ALL, sort_key=lambda x: (WindowsNameOrder(x['filename'])))"
   ]
  },
  {
   "cell_type": "markdown",
   "metadata": {},
   "source": [
    "### 분류된 영상 다시 하나로 모으기"
   ]
  },
  {
   "cell_type": "code",
   "execution_count": null,
   "metadata": {},
   "outputs": [],
   "source": [
    "from src.video_classify import VideoClassifier\n",
    "VideoClassifier.unclassify_files()"
   ]
  }
 ],
 "metadata": {
  "kernelspec": {
   "display_name": ".venv",
   "language": "python",
   "name": "python3"
  },
  "language_info": {
   "codemirror_mode": {
    "name": "ipython",
    "version": 3
   },
   "file_extension": ".py",
   "mimetype": "text/x-python",
   "name": "python",
   "nbconvert_exporter": "python",
   "pygments_lexer": "ipython3",
   "version": "3.10.11"
  }
 },
 "nbformat": 4,
 "nbformat_minor": 2
}
